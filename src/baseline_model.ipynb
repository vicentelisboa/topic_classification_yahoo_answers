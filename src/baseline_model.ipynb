{
 "cells": [
  {
   "cell_type": "markdown",
   "id": "902723f3",
   "metadata": {},
   "source": [
    "## Import Libraries "
   ]
  },
  {
   "cell_type": "code",
   "execution_count": 1,
   "id": "6d970d59",
   "metadata": {
    "scrolled": true
   },
   "outputs": [
    {
     "name": "stderr",
     "output_type": "stream",
     "text": [
      "[nltk_data] Downloading package stopwords to\n",
      "[nltk_data]     C:\\Users\\vilis\\AppData\\Roaming\\nltk_data...\n",
      "[nltk_data]   Package stopwords is already up-to-date!\n",
      "[nltk_data] Downloading package stopwords to\n",
      "[nltk_data]     C:\\Users\\vilis\\AppData\\Roaming\\nltk_data...\n",
      "[nltk_data]   Package stopwords is already up-to-date!\n",
      "[nltk_data] Downloading package punkt to\n",
      "[nltk_data]     C:\\Users\\vilis\\AppData\\Roaming\\nltk_data...\n",
      "[nltk_data]   Package punkt is already up-to-date!\n"
     ]
    }
   ],
   "source": [
    "import numpy as np\n",
    "import pandas as pd\n",
    "import matplotlib.pyplot as plt\n",
    "import seaborn as sns\n",
    "import nltk\n",
    "nltk.download('stopwords')\n",
    "from nltk.corpus import stopwords\n",
    "from nltk.stem import PorterStemmer\n",
    "import string\n",
    "from sklearn.feature_extraction.text import TfidfVectorizer\n",
    "\n",
    "nltk.download('stopwords')\n",
    "nltk.download('punkt')\n",
    "\n",
    "from wordcloud import WordCloud\n",
    "\n",
    "# define the stemmer and stopwords\n",
    "stemmer = PorterStemmer()\n",
    "stop_words = set(stopwords.words('english'))\n",
    "\n",
    "\n",
    "from sklearn.metrics import recall_score, precision_score\n",
    "from sklearn.model_selection import train_test_split\n",
    "from sklearn.feature_extraction.text import CountVectorizer, TfidfTransformer\n",
    "from sklearn.linear_model import LogisticRegression\n",
    "from sklearn.svm import SVC\n",
    "from sklearn.metrics import classification_report, f1_score, accuracy_score, confusion_matrix\n",
    "from gensim.models import Word2Vec\n",
    "from gensim.models.keyedvectors import KeyedVectors\n",
    "from sklearn.model_selection import GridSearchCV\n",
    "from sklearn.tree import DecisionTreeClassifier\n",
    "import random"
   ]
  },
  {
   "cell_type": "markdown",
   "id": "9f914291",
   "metadata": {},
   "source": [
    "## Import data"
   ]
  },
  {
   "cell_type": "code",
   "execution_count": 2,
   "id": "081d553d",
   "metadata": {},
   "outputs": [],
   "source": [
    "df_train = pd.read_csv(\"yahoo_train.csv\")"
   ]
  },
  {
   "cell_type": "code",
   "execution_count": 3,
   "id": "df6a829b",
   "metadata": {
    "scrolled": true
   },
   "outputs": [
    {
     "name": "stdout",
     "output_type": "stream",
     "text": [
      "<class 'pandas.core.frame.DataFrame'>\n",
      "RangeIndex: 1400000 entries, 0 to 1399999\n",
      "Data columns (total 10 columns):\n",
      " #   Column            Non-Null Count    Dtype \n",
      "---  ------            --------------    ----- \n",
      " 0   id                1400000 non-null  int64 \n",
      " 1   topic             1400000 non-null  int64 \n",
      " 2   question_title    1400000 non-null  object\n",
      " 3   question_content  768325 non-null   object\n",
      " 4   best_answer       1375421 non-null  object\n",
      " 5   topic_name        1400000 non-null  object\n",
      " 6   title_clean       1396823 non-null  object\n",
      " 7   content_clean     764929 non-null   object\n",
      " 8   answer_clean      1369225 non-null  object\n",
      " 9   text_clean        1400000 non-null  object\n",
      "dtypes: int64(2), object(8)\n",
      "memory usage: 106.8+ MB\n"
     ]
    }
   ],
   "source": [
    "df_train.info()"
   ]
  },
  {
   "cell_type": "markdown",
   "id": "1dff084d",
   "metadata": {},
   "source": [
    "### Define clean dataset\n",
    "\n",
    "+ Variables 'topic', 'topic_name' and 'text_clean'"
   ]
  },
  {
   "cell_type": "code",
   "execution_count": 6,
   "id": "8f363db9",
   "metadata": {},
   "outputs": [],
   "source": [
    "df_clean = df_train[['topic','topic_name','text_clean']]"
   ]
  },
  {
   "cell_type": "markdown",
   "id": "186822e7",
   "metadata": {},
   "source": [
    "### Filtering topics\n",
    "\n",
    "+ Filter topics 0,1,2."
   ]
  },
  {
   "cell_type": "code",
   "execution_count": 7,
   "id": "c635d2c8",
   "metadata": {},
   "outputs": [],
   "source": [
    "df_clean = df_clean[df_clean.topic.isin([0,1,2])]"
   ]
  },
  {
   "cell_type": "code",
   "execution_count": 50,
   "id": "5b88263a",
   "metadata": {},
   "outputs": [
    {
     "name": "stdout",
     "output_type": "stream",
     "text": [
      "<class 'pandas.core.frame.DataFrame'>\n",
      "Int64Index: 420000 entries, 2 to 1399998\n",
      "Data columns (total 4 columns):\n",
      " #   Column      Non-Null Count   Dtype \n",
      "---  ------      --------------   ----- \n",
      " 0   topic       420000 non-null  int64 \n",
      " 1   topic_name  420000 non-null  object\n",
      " 2   text_clean  420000 non-null  object\n",
      " 3   noun_text   420000 non-null  object\n",
      "dtypes: int64(1), object(3)\n",
      "memory usage: 16.0+ MB\n"
     ]
    }
   ],
   "source": [
    "df_clean.info()\n"
   ]
  },
  {
   "cell_type": "markdown",
   "id": "9adc00cd",
   "metadata": {},
   "source": [
    "### Metrics"
   ]
  },
  {
   "cell_type": "code",
   "execution_count": 9,
   "id": "830a6ac9",
   "metadata": {},
   "outputs": [],
   "source": [
    "def get_metrics(y_trues, y_preds, verbose=True):\n",
    "\n",
    "  recall = recall_score(y_trues, y_preds) * 100\n",
    "  precision = precision_score(y_trues, y_preds) * 100\n",
    "\n",
    "  if verbose:\n",
    "    print(f'Precision: {precision:.2f}')\n",
    "    print(f'Recall: {recall:.2f}')\n",
    "\n",
    "  return recall, precision"
   ]
  },
  {
   "cell_type": "markdown",
   "id": "5cb92a6c",
   "metadata": {},
   "source": [
    "## Baseline models"
   ]
  },
  {
   "cell_type": "markdown",
   "id": "e7e0dc7d",
   "metadata": {},
   "source": [
    "### Ruled based model\n",
    "\n",
    "+ Gets as inputs a dictionnary for each topic with the fifty most common words\n",
    "+ For each sentence find the dictionary with more coincidences and classify the text under that topic\n",
    "+ Calculate precision, recall, f1-score and the confusion matrix for the model\n"
   ]
  },
  {
   "cell_type": "code",
   "execution_count": 11,
   "id": "a4e23987",
   "metadata": {
    "scrolled": true
   },
   "outputs": [
    {
     "name": "stderr",
     "output_type": "stream",
     "text": [
      "C:\\Users\\vilis\\anaconda3\\lib\\site-packages\\sklearn\\utils\\deprecation.py:87: FutureWarning: Function get_feature_names is deprecated; get_feature_names is deprecated in 1.0 and will be removed in 1.2. Please use get_feature_names_out instead.\n",
      "  warnings.warn(msg, category=FutureWarning)\n"
     ]
    },
    {
     "name": "stdout",
     "output_type": "stream",
     "text": [
      "{0: ['god', 'people', 'would', 'one', 'like', 'know', 'think', 'get', 'jesus', 'good', 'believe', 'life', 'say', 'time', 'many', 'want', 'us', 'go', 'way', 'also', 'really', 'make', 'bible', 'love', 'see', 'even', 'world', 'could', 'question', 'religion', 'things', 'day', 'person', 'man', 'something', 'someone', 'need', 'right', 'much', 'well', 'find', 'anyone', 'help', 'first', 'said', 'never', 'thing', 'mean', 'christian', 'church'], 1: ['would', 'one', 'water', 'like', 'time', 'know', 'get', 'also', 'earth', 'light', 'two', 'many', 'energy', 'need', '10', 'answer', 'find', 'use', 'help', 'number', 'http', 'used', 'question', 'see', 'first', 'could', 'make', 'think', 'much', 'way', 'people', 'may', 'different', 'mass', 'air', 'good', 'called', 'please', 'years', 'even', 'go', 'well', 'take', 'point', 'space', 'work', 'since', 'speed', 'sun', 'www'], 2: ['get', 'like', 'know', 'help', 'good', 'one', 'would', 'also', 'go', 'weight', 'time', 'need', 'take', 'body', 'people', 'may', 'really', 'day', 'want', 'doctor', 'make', 'could', 'think', 'way', 'eat', 'much', 'feel', 'work', 'see', 'use', 'try', 'pain', 'best', 'back', 'blood', 'even', 'water', 'well', 'many', 'fat', 'something', 'anyone', 'diet', 'cause', 'long', 'years', 'first', 'find', 'going', 'please']}\n"
     ]
    }
   ],
   "source": [
    "topics = df_clean.groupby('topic')['text_clean'].apply(list)\n",
    "\n",
    "# Preprocess the text data for each topic\n",
    "tfidf = TfidfVectorizer()\n",
    "tfidf_matrix = tfidf.fit_transform(topics.apply(lambda x: ' '.join(x)))\n",
    "\n",
    "# Extract the top 10 keywords for each topic\n",
    "feature_names = tfidf.get_feature_names()\n",
    "keywords = {}\n",
    "for topic in topics.index:\n",
    "    index = topics.index.get_loc(topic)\n",
    "    feature_index = tfidf_matrix[index,:].nonzero()[1]\n",
    "    tfidf_scores = zip(feature_index, [tfidf_matrix[index, x] for x in feature_index])\n",
    "    sorted_scores = sorted(tfidf_scores, key=lambda x: x[1], reverse=True)\n",
    "    top_keywords = [feature_names[i] for i, score in sorted_scores[:50]]\n",
    "    keywords[topic] = top_keywords\n",
    "\n",
    "print(keywords)"
   ]
  },
  {
   "cell_type": "code",
   "execution_count": 12,
   "id": "f4b7399a",
   "metadata": {},
   "outputs": [],
   "source": [
    "from nltk import pos_tag\n",
    "from nltk.tokenize import word_tokenize\n",
    "def keep_nouns(text):\n",
    "    # Tokenize the text\n",
    "    tokens = word_tokenize(text)\n",
    "    \n",
    "    # Get the POS tags\n",
    "    pos_tags = pos_tag(tokens)\n",
    "    \n",
    "    # Keep only the nouns\n",
    "    nouns = [word for word, pos in pos_tags if pos.startswith('N')]\n",
    "    \n",
    "    # Join the nouns into a single string\n",
    "    preprocessed_text = ' '.join(nouns)\n",
    "    \n",
    "    return preprocessed_text"
   ]
  },
  {
   "cell_type": "code",
   "execution_count": 13,
   "id": "8ee2ea47",
   "metadata": {},
   "outputs": [],
   "source": [
    "df_clean['noun_text'] = df_clean['text_clean'].apply(keep_nouns)"
   ]
  },
  {
   "cell_type": "code",
   "execution_count": 14,
   "id": "7e1238dd",
   "metadata": {
    "scrolled": true
   },
   "outputs": [
    {
     "name": "stderr",
     "output_type": "stream",
     "text": [
      "C:\\Users\\vilis\\anaconda3\\lib\\site-packages\\sklearn\\utils\\deprecation.py:87: FutureWarning: Function get_feature_names is deprecated; get_feature_names is deprecated in 1.0 and will be removed in 1.2. Please use get_feature_names_out instead.\n",
      "  warnings.warn(msg, category=FutureWarning)\n"
     ]
    },
    {
     "name": "stdout",
     "output_type": "stream",
     "text": [
      "{0: ['god', 'people', 'would', 'one', 'like', 'know', 'think', 'get', 'jesus', 'good', 'believe', 'life', 'say', 'time', 'many', 'want', 'us', 'go', 'way', 'also', 'really', 'make', 'bible', 'love', 'see', 'even', 'world', 'could', 'question', 'religion', 'things', 'day', 'person', 'man', 'something', 'someone', 'need', 'right', 'much', 'well', 'find', 'anyone', 'help', 'first', 'said', 'never', 'thing', 'mean', 'christian', 'church'], 1: ['would', 'one', 'water', 'like', 'time', 'know', 'get', 'also', 'earth', 'light', 'two', 'many', 'energy', 'need', '10', 'answer', 'find', 'use', 'help', 'number', 'http', 'used', 'question', 'see', 'first', 'could', 'make', 'think', 'much', 'way', 'people', 'may', 'different', 'mass', 'air', 'good', 'called', 'please', 'years', 'even', 'go', 'well', 'take', 'point', 'space', 'work', 'since', 'speed', 'sun', 'www'], 2: ['get', 'like', 'know', 'help', 'good', 'one', 'would', 'also', 'go', 'weight', 'time', 'need', 'take', 'body', 'people', 'may', 'really', 'day', 'want', 'doctor', 'make', 'could', 'think', 'way', 'eat', 'much', 'feel', 'work', 'see', 'use', 'try', 'pain', 'best', 'back', 'blood', 'even', 'water', 'well', 'many', 'fat', 'something', 'anyone', 'diet', 'cause', 'long', 'years', 'first', 'find', 'going', 'please']}\n"
     ]
    }
   ],
   "source": [
    "topics = df_clean.groupby('topic')['text_clean'].apply(list)\n",
    "\n",
    "# Preprocess the text data for each topic\n",
    "tfidf = TfidfVectorizer()\n",
    "tfidf_matrix = tfidf.fit_transform(topics.apply(lambda x: ' '.join(x)))\n",
    "\n",
    "# Extract the top 10 keywords for each topic\n",
    "feature_names = tfidf.get_feature_names()\n",
    "keywords = {}\n",
    "for topic in topics.index:\n",
    "    index = topics.index.get_loc(topic)\n",
    "    feature_index = tfidf_matrix[index,:].nonzero()[1]\n",
    "    tfidf_scores = zip(feature_index, [tfidf_matrix[index, x] for x in feature_index])\n",
    "    sorted_scores = sorted(tfidf_scores, key=lambda x: x[1], reverse=True)\n",
    "    top_keywords = [feature_names[i] for i, score in sorted_scores[:50]]\n",
    "    keywords[topic] = top_keywords\n",
    "\n",
    "print(keywords)"
   ]
  },
  {
   "cell_type": "code",
   "execution_count": 51,
   "id": "0888b019",
   "metadata": {},
   "outputs": [],
   "source": [
    "def rule_based_model(text):\n",
    "    # Extract the words from the text\n",
    "    words = set(text.split())\n",
    "    # Find the topic with the most matching keywords\n",
    "    max_matches = 0\n",
    "    best_topic = None\n",
    "    for topic, topic_keywords in keywords.items():\n",
    "        matches = len(words.intersection(topic_keywords))\n",
    "        if matches > max_matches:\n",
    "            max_matches = matches\n",
    "            best_topic = topic\n",
    "    if best_topic is None:\n",
    "        best_topic = random.randint(0,2)\n",
    "    return best_topic"
   ]
  },
  {
   "cell_type": "code",
   "execution_count": 52,
   "id": "9105f7e8",
   "metadata": {},
   "outputs": [],
   "source": [
    "y_pred_rule = df_clean['text_clean'].apply(rule_based_model)"
   ]
  },
  {
   "cell_type": "code",
   "execution_count": 54,
   "id": "43d9ee65",
   "metadata": {
    "scrolled": false
   },
   "outputs": [
    {
     "name": "stdout",
     "output_type": "stream",
     "text": [
      "Rule-based model:\n",
      "Accuracy Score: 0.5968666666666667\n",
      "              precision    recall  f1-score   support\n",
      "\n",
      "           0       0.53      0.76      0.63    140000\n",
      "           1       0.64      0.52      0.57    140000\n",
      "           2       0.67      0.51      0.58    140000\n",
      "\n",
      "    accuracy                           0.60    420000\n",
      "   macro avg       0.61      0.60      0.59    420000\n",
      "weighted avg       0.61      0.60      0.59    420000\n",
      "\n"
     ]
    }
   ],
   "source": [
    "print('Rule-based model:')\n",
    "print('Accuracy Score:', accuracy_score(df_clean['topic'], y_pred_rule))\n",
    "print(classification_report(df_clean['topic'], y_pred_rule))"
   ]
  },
  {
   "cell_type": "code",
   "execution_count": 43,
   "id": "735a7c78",
   "metadata": {},
   "outputs": [],
   "source": [
    "#Confussion Matrix \n",
    "\n",
    "from sklearn.metrics import plot_confusion_matrix\n",
    "from sklearn.metrics import confusion_matrix\n",
    "\n",
    "#Plot confusion matrix\n",
    "def plot_cm(y_true, y_pred, figsize=(6,6)):\n",
    "    cm = confusion_matrix(y_true, y_pred, labels=np.unique(y_true))\n",
    "    cm_sum = np.sum(cm, axis=1, keepdims=True)\n",
    "    cm_perc = cm / cm_sum.astype(float) * 100\n",
    "    annot = np.empty_like(cm).astype(str)\n",
    "    nrows, ncols = cm.shape\n",
    "    for i in range(nrows):\n",
    "        for j in range(ncols):\n",
    "            c = cm[i, j]\n",
    "            p = cm_perc[i, j]\n",
    "            if i == j:\n",
    "                s = cm_sum[i]\n",
    "                annot[i, j] = '%.1f%%\\n%d/%d' % (p, c, s)\n",
    "            elif c == 0:\n",
    "                annot[i, j] = '0.0%'\n",
    "            else:\n",
    "                annot[i, j] = '%.1f%%\\n%d' % (p, c)\n",
    "    cm = pd.DataFrame(cm, index=np.unique(y_true), columns=np.unique(y_true))\n",
    "    cm.index.name = 'True Values'\n",
    "    cm.columns.name = 'Predicted Values'\n",
    "    fig, ax = plt.subplots(figsize=figsize)\n",
    "    \n",
    "    sns.heatmap(cm, cmap= \"YlGnBu\", annot=annot, fmt='', ax=ax)"
   ]
  },
  {
   "cell_type": "code",
   "execution_count": 61,
   "id": "db2beb0b",
   "metadata": {},
   "outputs": [
    {
     "data": {
      "text/plain": [
       "<Figure size 3000x1000 with 0 Axes>"
      ]
     },
     "metadata": {},
     "output_type": "display_data"
    },
    {
     "data": {
      "image/png": "[encoded data removed]",
      "text/plain": [
       "<Figure size 600x600 with 2 Axes>"
      ]
     },
     "metadata": {},
     "output_type": "display_data"
    }
   ],
   "source": [
    "#Matrix\n",
    "plt.figure(figsize=(30,10))\n",
    "plot_cm(df_clean['topic'], y_pred_rule)\n",
    "plt.title(\"Confusion Matrix - Ruled based model\")\n",
    "plt.show()"
   ]
  },
  {
   "cell_type": "markdown",
   "id": "c604423f",
   "metadata": {},
   "source": [
    "+ First approach to a clasificatio model\n",
    "+ The model seems to perform better with the classification of topics related to topic 0\n",
    "+ The performance decreases in a 25% for the topics 1 and 2"
   ]
  },
  {
   "cell_type": "markdown",
   "id": "16a58607",
   "metadata": {},
   "source": [
    "### TF-IDF + Logistic Regression\n",
    "\n",
    "+ Create a bag of words with Count Vectorizer \n",
    "+ Use a TF-IDF transformer\n",
    "+ Run a Logistic Regression"
   ]
  },
  {
   "cell_type": "code",
   "execution_count": 19,
   "id": "e3fa13d0",
   "metadata": {},
   "outputs": [],
   "source": [
    "X_train, X_valid, y_train, y_valid = train_test_split(df_clean['text_clean'].tolist(), df_clean['topic'].tolist(), test_size=0.2, random_state=0, shuffle=True)"
   ]
  },
  {
   "cell_type": "markdown",
   "id": "f34d3947",
   "metadata": {},
   "source": [
    "#### Create bag of words with CountVectorizer"
   ]
  },
  {
   "cell_type": "code",
   "execution_count": 20,
   "id": "552b73dc",
   "metadata": {},
   "outputs": [],
   "source": [
    "vectorizer = CountVectorizer(analyzer = 'word', min_df = 10, max_df = 0.9)\n",
    "X_train = vectorizer.fit_transform(X_train)\n",
    "X_valid = vectorizer.transform(X_valid)"
   ]
  },
  {
   "cell_type": "markdown",
   "id": "86472fb4",
   "metadata": {},
   "source": [
    "#### TF-IDF"
   ]
  },
  {
   "cell_type": "code",
   "execution_count": 21,
   "id": "3e5a95c7",
   "metadata": {},
   "outputs": [],
   "source": [
    "tfidf_transformer = TfidfTransformer()\n",
    "X_train = tfidf_transformer.fit_transform(X_train)\n",
    "X_valid = tfidf_transformer.transform(X_valid)"
   ]
  },
  {
   "cell_type": "markdown",
   "id": "a95878d4",
   "metadata": {},
   "source": [
    "#### LogisticRegression model"
   ]
  },
  {
   "cell_type": "code",
   "execution_count": 22,
   "id": "3e95c42d",
   "metadata": {
    "scrolled": true
   },
   "outputs": [
    {
     "name": "stderr",
     "output_type": "stream",
     "text": [
      "C:\\Users\\vilis\\anaconda3\\lib\\site-packages\\sklearn\\linear_model\\_logistic.py:814: ConvergenceWarning: lbfgs failed to converge (status=1):\n",
      "STOP: TOTAL NO. of ITERATIONS REACHED LIMIT.\n",
      "\n",
      "Increase the number of iterations (max_iter) or scale the data as shown in:\n",
      "    https://scikit-learn.org/stable/modules/preprocessing.html\n",
      "Please also refer to the documentation for alternative solver options:\n",
      "    https://scikit-learn.org/stable/modules/linear_model.html#logistic-regression\n",
      "  n_iter_i = _check_optimize_result(\n"
     ]
    },
    {
     "data": {
      "text/plain": [
       "LogisticRegression()"
      ]
     },
     "execution_count": 22,
     "metadata": {},
     "output_type": "execute_result"
    }
   ],
   "source": [
    "lr_model = LogisticRegression()\n",
    "lr_model.fit(X_train, y_train)"
   ]
  },
  {
   "cell_type": "code",
   "execution_count": 41,
   "id": "d2d0d2ad",
   "metadata": {
    "scrolled": true
   },
   "outputs": [
    {
     "name": "stdout",
     "output_type": "stream",
     "text": [
      "LogisticRegression model:\n",
      "Accuracy Score: 0.8778095238095238\n",
      "Confusion Matrix:\n",
      " [[24903  1426  1619]\n",
      " [ 1790 24566  1752]\n",
      " [ 2198  1479 24267]]\n",
      "Classification Report:\n",
      "               precision    recall  f1-score   support\n",
      "\n",
      "           0       0.86      0.89      0.88     27948\n",
      "           1       0.89      0.87      0.88     28108\n",
      "           2       0.88      0.87      0.87     27944\n",
      "\n",
      "    accuracy                           0.88     84000\n",
      "   macro avg       0.88      0.88      0.88     84000\n",
      "weighted avg       0.88      0.88      0.88     84000\n",
      "\n"
     ]
    }
   ],
   "source": [
    "lr_y_pred = lr_model.predict(X_valid)\n",
    "print('LogisticRegression model:')\n",
    "print('Accuracy Score:', accuracy_score(y_valid, lr_y_pred))\n",
    "print('Confusion Matrix:\\n', confusion_matrix(y_valid, lr_y_pred))\n",
    "print('Classification Report:\\n', classification_report(y_valid, lr_y_pred))"
   ]
  },
  {
   "cell_type": "code",
   "execution_count": 45,
   "id": "9a20230c",
   "metadata": {},
   "outputs": [
    {
     "data": {
      "text/plain": [
       "<Figure size 3000x1000 with 0 Axes>"
      ]
     },
     "metadata": {},
     "output_type": "display_data"
    },
    {
     "data": {
      "image/png": "[encoded data removed]",
      "text/plain": [
       "<Figure size 600x600 with 2 Axes>"
      ]
     },
     "metadata": {},
     "output_type": "display_data"
    }
   ],
   "source": [
    "#Confusion Matrix\n",
    "plt.figure(figsize=(30,10))\n",
    "plot_cm(y_valid, lr_y_pred)\n",
    "plt.title(\"Confusion Matrix - TI-IDF + Logistic Regression model\")\n",
    "plt.show()"
   ]
  },
  {
   "cell_type": "markdown",
   "id": "56107370",
   "metadata": {},
   "source": [
    "+ Best baseline model obtained\n",
    "+ Accuracy 0.88"
   ]
  },
  {
   "cell_type": "markdown",
   "id": "6b13f166",
   "metadata": {},
   "source": [
    "## DecisionTree model\n",
    "\n",
    "+ Run a Decision Tree Classifier model using the provided dataset"
   ]
  },
  {
   "cell_type": "code",
   "execution_count": 56,
   "id": "60f42378",
   "metadata": {},
   "outputs": [],
   "source": [
    "clf = DecisionTreeClassifier()"
   ]
  },
  {
   "cell_type": "code",
   "execution_count": 57,
   "id": "48af8c53",
   "metadata": {},
   "outputs": [
    {
     "data": {
      "text/plain": [
       "DecisionTreeClassifier()"
      ]
     },
     "execution_count": 57,
     "metadata": {},
     "output_type": "execute_result"
    }
   ],
   "source": [
    "clf.fit(X_train, y_train)"
   ]
  },
  {
   "cell_type": "code",
   "execution_count": 58,
   "id": "2501392d",
   "metadata": {},
   "outputs": [
    {
     "name": "stdout",
     "output_type": "stream",
     "text": [
      "DecisionTree model:\n",
      "Accuracy Score: 0.7185595238095238\n",
      "Confusion Matrix:\n",
      " [[19947  3813  4188]\n",
      " [ 3826 20563  3719]\n",
      " [ 4407  3688 19849]]\n",
      "Classification Report:\n",
      "               precision    recall  f1-score   support\n",
      "\n",
      "           0       0.71      0.71      0.71     27948\n",
      "           1       0.73      0.73      0.73     28108\n",
      "           2       0.72      0.71      0.71     27944\n",
      "\n",
      "    accuracy                           0.72     84000\n",
      "   macro avg       0.72      0.72      0.72     84000\n",
      "weighted avg       0.72      0.72      0.72     84000\n",
      "\n"
     ]
    }
   ],
   "source": [
    "dt_y_pred = clf.predict(X_valid)\n",
    "print('DecisionTree model:')\n",
    "print('Accuracy Score:', accuracy_score(y_valid, dt_y_pred))\n",
    "print('Confusion Matrix:\\n', confusion_matrix(y_valid, dt_y_pred))\n",
    "print('Classification Report:\\n', classification_report(y_valid, dt_y_pred))"
   ]
  },
  {
   "cell_type": "code",
   "execution_count": 59,
   "id": "edc85081",
   "metadata": {},
   "outputs": [
    {
     "data": {
      "text/plain": [
       "<Figure size 3000x1000 with 0 Axes>"
      ]
     },
     "metadata": {},
     "output_type": "display_data"
    },
    {
     "data": {
      "image/png": "[encoded data removed]",
      "text/plain": [
       "<Figure size 600x600 with 2 Axes>"
      ]
     },
     "metadata": {},
     "output_type": "display_data"
    }
   ],
   "source": [
    "#Confusion Matrix\n",
    "plt.figure(figsize=(30,10))\n",
    "plot_cm(y_valid, dt_y_pred)\n",
    "plt.title(\"Confusion Matrix - Decision tree model\")\n",
    "plt.show()"
   ]
  },
  {
   "cell_type": "markdown",
   "id": "b7bb4731",
   "metadata": {},
   "source": [
    "+ The obtained results are worst than the one obtained by the TF-IDF + Logistic Regression"
   ]
  },
  {
   "cell_type": "markdown",
   "id": "021da273",
   "metadata": {},
   "source": [
    "### Error analysis"
   ]
  },
  {
   "cell_type": "code",
   "execution_count": 27,
   "id": "d5512c92",
   "metadata": {},
   "outputs": [],
   "source": [
    "misclassified_texts = []\n",
    "misclassified_targets = []\n",
    "misclassified_predictions = []\n",
    "X_valid_text = vectorizer.inverse_transform(X_valid)\n",
    "\n",
    "for i in range(len(y_valid)):\n",
    "    if y_valid[i] != lr_y_pred[i]:\n",
    "        misclassified_texts.append(X_valid_text[i])\n",
    "        misclassified_targets.append(y_valid[i])\n",
    "        misclassified_predictions.append(lr_y_pred[i])"
   ]
  },
  {
   "cell_type": "code",
   "execution_count": 28,
   "id": "f09ac42b",
   "metadata": {},
   "outputs": [
    {
     "name": "stdout",
     "output_type": "stream",
     "text": [
      "Text: ['woman' 'weight' 'us' 'taking' 'takes' 'sure' 'sexual' 'risky'\n",
      " 'recommend' 'really' 'pull' 'protection' 'pill' 'nut' 'make' 'intercouse'\n",
      " 'hate' 'good' 'gain' 'feeling' 'drunk' 'cons' 'condom' 'best' 'away'\n",
      " 'and']\n",
      "True target: 1\n",
      "Predicted target: 2\n",
      "\n"
     ]
    }
   ],
   "source": [
    "for text, target, prediction in zip(misclassified_texts, misclassified_targets, misclassified_predictions):\n",
    "    print(\"Text:\", text)\n",
    "    print(\"True target:\", target)\n",
    "    print(\"Predicted target:\", prediction)\n",
    "    print()\n",
    "    break"
   ]
  },
  {
   "cell_type": "markdown",
   "id": "d344abc8",
   "metadata": {},
   "source": [
    "+ Comparing the text and the keywords, apparently 'weight' here may be the reason it misclassified, like we saw before the word is common in all topics"
   ]
  },
  {
   "cell_type": "code",
   "execution_count": 29,
   "id": "cf758a69",
   "metadata": {},
   "outputs": [],
   "source": [
    "def analyze_errors(x_test, y_test, y_pred, feature_names, num_errors=5):\n",
    "    errors = []\n",
    "    for i in range(len(y_test)):\n",
    "        if y_pred[i] != y_test[i]:\n",
    "            error = {}\n",
    "            error['text'] = ' '.join([feature_names[j] for j in x_test[i].indices])\n",
    "            error['true_topic'] = y_test[i]\n",
    "            error['predicted_topic'] = y_pred[i]\n",
    "            errors.append(error)\n",
    "    sorted_errors = sorted(errors, key=lambda x: x['true_topic'])\n",
    "    for error in sorted_errors[:num_errors]:\n",
    "        print('Text:', error['text'])\n",
    "        print('True Topic:', error['true_topic'])\n",
    "        print('Predicted Topic:', error['predicted_topic'])\n",
    "        print('---')"
   ]
  },
  {
   "cell_type": "markdown",
   "id": "a8fe480c",
   "metadata": {},
   "source": [
    "####  Print some of the examples"
   ]
  },
  {
   "cell_type": "code",
   "execution_count": 30,
   "id": "7ae95174",
   "metadata": {
    "scrolled": true
   },
   "outputs": [
    {
     "name": "stdout",
     "output_type": "stream",
     "text": [
      "Text: watch ve time teeth stereotypically seen said python proper people monty money like know important funny excuse dental care brits british bad\n",
      "True Topic: 0\n",
      "Predicted Topic: 2\n",
      "---\n",
      "Text: war vinci sort rotating rotate replica pulled notebooks machine look library leonardo it horse drawn da collection art arms arm\n",
      "True Topic: 0\n",
      "Predicted Topic: 1\n",
      "---\n",
      "Text: yrs year thinking somthing much first cost better baby average abut 20 000\n",
      "True Topic: 0\n",
      "Predicted Topic: 2\n",
      "---\n",
      "Text: without ways using tried times stay starving several self make low look keep hurting harmful good full finish feel family excerise even esteem eating eat dont boost better active\n",
      "True Topic: 0\n",
      "Predicted Topic: 2\n",
      "---\n",
      "Text: threw shot room permanently nut left ladies guy ever damaged child across\n",
      "True Topic: 0\n",
      "Predicted Topic: 2\n",
      "---\n"
     ]
    }
   ],
   "source": [
    "analyze_errors(X_valid, y_valid, lr_y_pred, vectorizer.get_feature_names_out(), num_errors=5)"
   ]
  }
 ],
 "metadata": {
  "kernelspec": {
   "display_name": "Python 3 (ipykernel)",
   "language": "python",
   "name": "python3"
  },
  "language_info": {
   "codemirror_mode": {
    "name": "ipython",
    "version": 3
   },
   "file_extension": ".py",
   "mimetype": "text/x-python",
   "name": "python",
   "nbconvert_exporter": "python",
   "pygments_lexer": "ipython3",
   "version": "3.9.13"
  }
 },
 "nbformat": 4,
 "nbformat_minor": 5
}
