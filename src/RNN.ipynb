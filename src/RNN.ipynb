{
  "cells": [
    {
      "cell_type": "markdown",
      "metadata": {
        "id": "-UV6qXbbXVLX"
      },
      "source": [
        "##1. Import **Libraries**"
      ]
    },
    {
      "cell_type": "code",
      "execution_count": 2,
      "metadata": {
        "id": "jtsEYdkn0T0J",
        "colab": {
          "base_uri": "https://localhost:8080/"
        },
        "outputId": "81de4a5d-c3c0-4ab5-ea80-a5647a4076ae"
      },
      "outputs": [
        {
          "output_type": "stream",
          "name": "stderr",
          "text": [
            "/usr/local/lib/python3.9/dist-packages/torch/cuda/__init__.py:497: UserWarning: Can't initialize NVML\n",
            "  warnings.warn(\"Can't initialize NVML\")\n"
          ]
        }
      ],
      "source": [
        "import numpy as np\n",
        "import pandas as pd\n",
        "import spacy\n",
        "import pickle\n",
        "import itertools\n",
        "from sklearn.metrics.pairwise import cosine_similarity\n",
        "from sklearn.model_selection import train_test_split\n",
        "from sklearn.preprocessing import OneHotEncoder,LabelEncoder\n",
        "from tensorflow.keras.preprocessing.sequence import pad_sequences\n",
        "from tensorflow.keras.preprocessing.text import Tokenizer\n",
        "from tensorflow.keras.models import Sequential\n",
        "from tensorflow.keras.layers import Dense, Dropout, LSTM, Bidirectional, Embedding\n",
        "from tensorflow.keras.models import load_model\n",
        "from tensorflow.keras.callbacks import EarlyStopping\n",
        "from tensorflow.keras.callbacks import ReduceLROnPlateau\n",
        "import matplotlib.pyplot as plt\n",
        "from sklearn.metrics import accuracy_score\n",
        "from sklearn.metrics import precision_score\n",
        "from sklearn.metrics import recall_score\n",
        "from sklearn.metrics import f1_score\n",
        "from sklearn.metrics import cohen_kappa_score\n",
        "from sklearn.metrics import roc_auc_score\n",
        "from sklearn.metrics import confusion_matrix"
      ]
    },
    {
      "cell_type": "code",
      "source": [
        "from google.colab import drive\n",
        "drive.mount('/content/drive/')"
      ],
      "metadata": {
        "colab": {
          "base_uri": "https://localhost:8080/"
        },
        "id": "3qVvLry-wY_H",
        "outputId": "eb0661e4-0532-435d-b82b-49fc806c0c7f"
      },
      "execution_count": 3,
      "outputs": [
        {
          "output_type": "stream",
          "name": "stdout",
          "text": [
            "Mounted at /content/drive/\n"
          ]
        }
      ]
    },
    {
      "cell_type": "markdown",
      "metadata": {
        "id": "FUGRUALuXqOk"
      },
      "source": [
        "##2. Data Downloading"
      ]
    },
    {
      "cell_type": "code",
      "source": [
        "import locale\n",
        "def getpreferredencoding(do_setlocale = True):\n",
        "    return \"UTF-8\"\n",
        "locale.getpreferredencoding = getpreferredencoding"
      ],
      "metadata": {
        "id": "jZTwkWAVGwLW"
      },
      "execution_count": 4,
      "outputs": []
    },
    {
      "cell_type": "code",
      "source": [
        "# %pip install datasets"
      ],
      "metadata": {
        "id": "VW6A6ZmfExPP"
      },
      "execution_count": 5,
      "outputs": []
    },
    {
      "cell_type": "code",
      "source": [
        "# from datasets import load_dataset\n",
        "# import pandas as pd\n",
        "# import json\n",
        "# import nltk\n",
        "# nltk.download('stopwords')\n",
        "# from nltk.corpus import stopwords\n",
        "# import string \n",
        "# stop = stopwords.words('english')\n",
        "\n",
        "\n",
        "# def get_dataset(x):\n",
        "#     data = load_dataset(\"/content/drive/MyDrive/ColabNotebooks/tools/yahoo_answers_topics.py\")\n",
        "#     df=pd.DataFrame(data[x])\n",
        "#     df['text']=df['question_title']+df['question_content']+df['best_answer']\n",
        "#     return df\n"
      ],
      "metadata": {
        "id": "iOxzgqh0EqYc"
      },
      "execution_count": 6,
      "outputs": []
    },
    {
      "cell_type": "code",
      "source": [
        "\n",
        "# dftrain=get_dataset('train')\n",
        "# # dftest=get_dataset('test')"
      ],
      "metadata": {
        "id": "uzKQEjQTErvE"
      },
      "execution_count": 7,
      "outputs": []
    },
    {
      "cell_type": "code",
      "source": [
        "# def process_series(series, stop):\n",
        "#     series = series.str.lower().str.replace('[^\\w\\s]', ' ').apply(lambda x: ' '.join([word for word in x.split() if word not in (stop)]))\n",
        "#     return series"
      ],
      "metadata": {
        "id": "VyWvwt8oNMDH"
      },
      "execution_count": 8,
      "outputs": []
    },
    {
      "cell_type": "code",
      "source": [
        "# dftrain['alltext']=dftrain['question_title']+dftrain['question_content']+dftrain['best_answer']\n",
        "# # dftest['alltext']=dftest['question_title']+dftest['question_content']+dftest['best_answer']"
      ],
      "metadata": {
        "id": "aOMsQiR7Nczu"
      },
      "execution_count": 9,
      "outputs": []
    },
    {
      "cell_type": "code",
      "source": [
        "# dftrain['cleanedtext']=process_series(dftrain['alltext'],stop)\n",
        "# # dftest['cleanedtext']=process_series(dftest['alltext'],stop)"
      ],
      "metadata": {
        "id": "Jg-GFSinNssh"
      },
      "execution_count": 10,
      "outputs": []
    },
    {
      "cell_type": "code",
      "source": [
        "# dftrain.to_csv('/content/drive/MyDrive/ColabNotebooks/data/train.csv')"
      ],
      "metadata": {
        "id": "p88M3D1ZPewp"
      },
      "execution_count": null,
      "outputs": []
    },
    {
      "cell_type": "code",
      "source": [
        "# dftest.to_csv('/content/drive/MyDrive/ColabNotebooks/data/test.csv')"
      ],
      "metadata": {
        "id": "EAuIVsiqQ2P6"
      },
      "execution_count": null,
      "outputs": []
    },
    {
      "cell_type": "markdown",
      "metadata": {
        "id": "kxiyYm5qYuVC"
      },
      "source": [
        "##3. Data Visualization"
      ]
    },
    {
      "cell_type": "markdown",
      "metadata": {
        "id": "ZET9xlakZbBR"
      },
      "source": [
        "##4. Preprocessing Data"
      ]
    },
    {
      "cell_type": "code",
      "execution_count": 11,
      "metadata": {
        "id": "2sbqSa1QIhrj"
      },
      "outputs": [],
      "source": [
        "# # !python -m spacy download en_core_web_sm\n",
        "nlp = spacy.load(\"en_core_web_sm\")"
      ]
    },
    {
      "cell_type": "code",
      "execution_count": 12,
      "metadata": {
        "id": "OI7QkacPJkLx"
      },
      "outputs": [],
      "source": [
        "df=pd.read_csv('/content/drive/MyDrive/ColabNotebooks/data/yahoo_train.csv')"
      ]
    },
    {
      "cell_type": "code",
      "source": [
        "df=df[df.topic.isin([0,1,2])]"
      ],
      "metadata": {
        "id": "ogDWpoctsZmj"
      },
      "execution_count": 13,
      "outputs": []
    },
    {
      "cell_type": "code",
      "source": [
        "df=df[df['text_clean'].convert_dtypes(convert_string=True).notnull()]"
      ],
      "metadata": {
        "id": "h2CwtJB9qi5I"
      },
      "execution_count": 14,
      "outputs": []
    },
    {
      "cell_type": "code",
      "source": [
        "cleaned_data=df['text_clean'].to_list()"
      ],
      "metadata": {
        "id": "P8I20h-ow6Bt"
      },
      "execution_count": 15,
      "outputs": []
    },
    {
      "cell_type": "code",
      "source": [
        "len(cleaned_data)"
      ],
      "metadata": {
        "colab": {
          "base_uri": "https://localhost:8080/"
        },
        "id": "4KdHx5g_4Mxh",
        "outputId": "36a8932e-c018-4166-cd17-322ab9c45314"
      },
      "execution_count": 16,
      "outputs": [
        {
          "output_type": "execute_result",
          "data": {
            "text/plain": [
              "420000"
            ]
          },
          "metadata": {},
          "execution_count": 16
        }
      ]
    },
    {
      "cell_type": "code",
      "execution_count": 17,
      "metadata": {
        "id": "nuKctuzbrp16"
      },
      "outputs": [],
      "source": [
        "b_file = open(\"/content/drive/MyDrive/ColabNotebooks/data/cleaned_data.pkl\", \"wb\")\n",
        "pickle.dump(cleaned_data, b_file)\n",
        "b_file.close()"
      ]
    },
    {
      "cell_type": "code",
      "execution_count": 18,
      "metadata": {
        "id": "jbq1AJMnNa6S"
      },
      "outputs": [],
      "source": [
        "def encoding_data(cleaned_data):\n",
        "\n",
        "    tokenizer = Tokenizer()\n",
        "    tokenizer.fit_on_texts(cleaned_data)\n",
        "\n",
        "    # word_index is a dictionary contains indeces for the words like {'for': 8, 'is': 9, 'me': 10, ...}\n",
        "    word_index = tokenizer.word_index\n",
        "\n",
        "    # train_sequences is vectors where each vector represents a sentence\n",
        "    data_sequences = tokenizer.texts_to_sequences(cleaned_data)\n",
        "    data_sequences = pad_sequences(data_sequences, maxlen=10, padding=\"post\")\n",
        "\n",
        "\n",
        "\n",
        "    with open(\"/content/drive/MyDrive/ColabNotebooks/data/tokenizer.pkl\",\"wb\") as file:\n",
        "        pickle.dump(tokenizer,file)\n",
        "\n",
        "    return data_sequences, word_index\n",
        "#------------------------------------------------------------------#\n",
        "data_sequences, word_index = encoding_data(cleaned_data)\n",
        "\n",
        "with open(\"/content/drive/MyDrive/ColabNotebooks/data/data_sequences.pkl\",\"wb\") as file:\n",
        "    pickle.dump(data_sequences,file)\n",
        "\n",
        "with open(\"/content/drive/MyDrive/ColabNotebooks/data/word_index.pkl\",\"wb\") as file:\n",
        "    pickle.dump(word_index,file)"
      ]
    },
    {
      "cell_type": "markdown",
      "metadata": {
        "id": "YvsSHrL6cD6q"
      },
      "source": [
        "##5. Importing GloVe dataset"
      ]
    },
    {
      "cell_type": "code",
      "execution_count": 19,
      "metadata": {
        "id": "fchTLSx9Ocz9",
        "colab": {
          "base_uri": "https://localhost:8080/"
        },
        "outputId": "013d49f6-9693-48d9-896a-70b5d16bd09a"
      },
      "outputs": [
        {
          "output_type": "stream",
          "name": "stdout",
          "text": [
            "Looking in indexes: https://pypi.org/simple, https://us-python.pkg.dev/colab-wheels/public/simple/\n",
            "Collecting wget\n",
            "  Downloading wget-3.2.zip (10 kB)\n",
            "  Preparing metadata (setup.py) ... \u001b[?25l\u001b[?25hdone\n",
            "Building wheels for collected packages: wget\n",
            "  Building wheel for wget (setup.py) ... \u001b[?25l\u001b[?25hdone\n",
            "  Created wheel for wget: filename=wget-3.2-py3-none-any.whl size=9676 sha256=9cfba620b4519436341a79d196175bebd69ba23b26148ca8d154883fa1ea0b25\n",
            "  Stored in directory: /root/.cache/pip/wheels/04/5f/3e/46cc37c5d698415694d83f607f833f83f0149e49b3af9d0f38\n",
            "Successfully built wget\n",
            "Installing collected packages: wget\n",
            "Successfully installed wget-3.2\n"
          ]
        }
      ],
      "source": [
        "!pip install wget\n",
        "import wget\n",
        "url ='https://www.dropbox.com/s/a247ju2qsczh0be/glove.6B.100d.txt?dl=1'\n",
        "wget.download(url)\n",
        "\n",
        "def GloVe(data = 'glove.6B.100d.txt'):\n",
        "\n",
        "  embeddings_index={}\n",
        "  with open(data, encoding='utf8') as f:\n",
        "    for line in f:\n",
        "        values = line.split()\n",
        "        word = values[0]\n",
        "        coefs = np.asarray(values[1:], dtype='float32')\n",
        "        embeddings_index[word] = coefs\n",
        "  return embeddings_index\n",
        "#--------------------------------------------------------------------------------------------#\n",
        "def embeddingWeights(word_index, max_num_words=500000):\n",
        "  embeddings_index = GloVe()\n",
        "  all_embs = np.stack(embeddings_index.values())\n",
        "  emb_mean,emb_std = all_embs.mean(), all_embs.std()\n",
        "\n",
        "  num_words = min(max_num_words, len(word_index))+1\n",
        "\n",
        "  embedding_dim=len(embeddings_index['the'])\n",
        "\n",
        "  embedding_weights = np.random.normal(emb_mean, emb_std, (num_words, embedding_dim))\n",
        "\n",
        "  for word, i in word_index.items():\n",
        "      if i >= max_num_words:\n",
        "          break\n",
        "      embedding_vector = embeddings_index.get(word)\n",
        "      if embedding_vector is not None:\n",
        "          embedding_weights[i] = embedding_vector\n",
        "  \n",
        "  return embedding_weights, num_words"
      ]
    },
    {
      "cell_type": "code",
      "execution_count": 20,
      "metadata": {
        "id": "CwZHZ4WbbPJZ",
        "colab": {
          "base_uri": "https://localhost:8080/"
        },
        "outputId": "79eca590-3ba5-4fae-f438-3356c760f513"
      },
      "outputs": [
        {
          "output_type": "stream",
          "name": "stderr",
          "text": [
            "/usr/local/lib/python3.9/dist-packages/IPython/core/interactiveshell.py:3553: FutureWarning: arrays to stack must be passed as a \"sequence\" type such as list or tuple. Support for non-sequence iterables such as generators is deprecated as of NumPy 1.16 and will raise an error in the future.\n",
            "  exec(code_obj, self.user_global_ns, self.user_ns)\n"
          ]
        }
      ],
      "source": [
        "embedding_weights, num_words = embeddingWeights(word_index)\n",
        "\n",
        "a_file = open(\"/content/drive/MyDrive/ColabNotebooks/data/embedding_wights.pkl\", \"wb\")\n",
        "pickle.dump(embedding_weights, a_file)\n",
        "a_file.close()\n",
        "\n",
        "a_file = open(\"/content/drive/MyDrive/ColabNotebooks/data/num_words.pkl\", \"wb\")\n",
        "pickle.dump(num_words, a_file)\n",
        "a_file.close()"
      ]
    },
    {
      "cell_type": "code",
      "execution_count": 21,
      "metadata": {
        "id": "VTONzWIBdTC-"
      },
      "outputs": [],
      "source": [
        "# # # Importing all the variables from Google Drive\n",
        "# with open('/content/drive/MyDrive/ColabNotebooks/data/cleaned_data.pkl','rb') as file:\n",
        "#   cleaned_data = pickle.load(file)\n",
        "\n",
        "# # with open('/content/drive/MyDrive/yahoo-answers-dataset/data_label.pkl','rb') as file:\n",
        "# #   data_label = pickle.load(file)\n",
        "\n",
        "# with open('/content/drive/MyDrive/ColabNotebooks/data/data_sequences.pkl','rb') as file:\n",
        "#   data_sequences = pickle.load(file)\n",
        "\n",
        "# # with open('/content/drive/MyDrive/yahoo-answers-dataset/dic.pkl','rb') as file:\n",
        "# #   dic = pickle.load(file)\n",
        "\n",
        "# # with open('/content/drive/MyDrive/yahoo-answers-dataset/label_encoder.pkl','rb') as file:\n",
        "# #   label_encoder = pickle.load(file)\n",
        "\n",
        "# with open('/content/drive/MyDrive/ColabNotebooks/data/num_words.pkl','rb') as file:\n",
        "#   num_words = pickle.load(file)\n",
        "\n",
        "# with open('/content/drive/MyDrive/ColabNotebooks/data/tokenizer.pkl','rb') as file:\n",
        "#   tokenizer = pickle.load(file)\n",
        "\n",
        "# with open('/content/drive/MyDrive/ColabNotebooks/data/word_index.pkl','rb') as file:\n",
        "#   word_index = pickle.load(file)\n",
        "\n",
        "# with open('/content/drive/MyDrive/ColabNotebooks/data/embedding_wights.pkl','rb') as file:\n",
        "#   embedding_wights = pickle.load(file)"
      ]
    },
    {
      "cell_type": "code",
      "execution_count": 23,
      "metadata": {
        "id": "46wAceG4rp2C"
      },
      "outputs": [],
      "source": [
        "data_label=df['topic'].to_numpy()"
      ]
    },
    {
      "cell_type": "markdown",
      "metadata": {
        "id": "O_1UIn5HafiD"
      },
      "source": [
        "##6. Splitting the Data"
      ]
    },
    {
      "cell_type": "code",
      "execution_count": 24,
      "metadata": {
        "id": "8GW5fvZGOT2c"
      },
      "outputs": [],
      "source": [
        "train_data, val_test_data, train_labels, val_test_labels = train_test_split(data_sequences, data_label,test_size = 0.2, stratify=data_label)\n",
        "test_data, val_data, test_labels, val_labels = train_test_split(val_test_data, val_test_labels, test_size = 0.5, stratify=val_test_labels)"
      ]
    },
    {
      "cell_type": "markdown",
      "metadata": {
        "id": "eJEm7Ehna6Mw"
      },
      "source": [
        "##7. Model Preparation and Training"
      ]
    },
    {
      "cell_type": "code",
      "execution_count": 26,
      "metadata": {
        "id": "QBMC-Pd0OgZP"
      },
      "outputs": [],
      "source": [
        "model = Sequential()\n",
        "model.add(Embedding(input_dim=num_words, output_dim=100, trainable=False, input_length=10, weights=[embedding_weights]))\n",
        "model.add(Bidirectional(LSTM(256, return_sequences=True, recurrent_dropout=0.2, dropout=0.2), 'concat'))\n",
        "model.add(Dropout(0.4))\n",
        "model.add(LSTM(128, return_sequences=True, recurrent_dropout=0.2, dropout=0.2))\n",
        "model.add(Dropout(0.4))\n",
        "model.add(LSTM(64, return_sequences=False, recurrent_dropout=0.2, dropout=0.2))\n",
        "model.add(Dropout(0.2))\n",
        "model.add(Dense(64, activation='sigmoid'))\n",
        "model.add(Dropout(0.2))\n",
        "model.add(Dense(3, activation='softmax'))\n",
        "model.compile(loss ='sparse_categorical_crossentropy', optimizer = \"adam\", metrics = [\"accuracy\"])"
      ]
    },
    {
      "cell_type": "code",
      "execution_count": 27,
      "metadata": {
        "colab": {
          "base_uri": "https://localhost:8080/"
        },
        "id": "JeX0mk_oOkjv",
        "outputId": "1ab2beab-9cac-427e-c094-d1469a563af5"
      },
      "outputs": [
        {
          "output_type": "stream",
          "name": "stdout",
          "text": [
            "Model: \"sequential_1\"\n",
            "_________________________________________________________________\n",
            " Layer (type)                Output Shape              Param #   \n",
            "=================================================================\n",
            " embedding_1 (Embedding)     (None, 10, 100)           45499500  \n",
            "                                                                 \n",
            " bidirectional_1 (Bidirectio  (None, 10, 512)          731136    \n",
            " nal)                                                            \n",
            "                                                                 \n",
            " dropout_4 (Dropout)         (None, 10, 512)           0         \n",
            "                                                                 \n",
            " lstm_4 (LSTM)               (None, 10, 128)           328192    \n",
            "                                                                 \n",
            " dropout_5 (Dropout)         (None, 10, 128)           0         \n",
            "                                                                 \n",
            " lstm_5 (LSTM)               (None, 64)                49408     \n",
            "                                                                 \n",
            " dropout_6 (Dropout)         (None, 64)                0         \n",
            "                                                                 \n",
            " dense_2 (Dense)             (None, 64)                4160      \n",
            "                                                                 \n",
            " dropout_7 (Dropout)         (None, 64)                0         \n",
            "                                                                 \n",
            " dense_3 (Dense)             (None, 3)                 195       \n",
            "                                                                 \n",
            "=================================================================\n",
            "Total params: 46,612,591\n",
            "Trainable params: 1,113,091\n",
            "Non-trainable params: 45,499,500\n",
            "_________________________________________________________________\n",
            "None\n"
          ]
        }
      ],
      "source": [
        " print(model.summary())"
      ]
    },
    {
      "cell_type": "code",
      "source": [
        "# model = load_model('/content/drive/MyDrive/ColabNotebooks/data/modeltrainable.h5')"
      ],
      "metadata": {
        "id": "GlhD9yV2HKm8"
      },
      "execution_count": 28,
      "outputs": []
    },
    {
      "cell_type": "code",
      "execution_count": 29,
      "metadata": {
        "colab": {
          "base_uri": "https://localhost:8080/"
        },
        "id": "1PRvIeKfOrwi",
        "outputId": "48774370-dde4-4ec5-a402-0863aa2910e9"
      },
      "outputs": [
        {
          "output_type": "stream",
          "name": "stdout",
          "text": [
            "Epoch 1/20\n",
            "329/329 [==============================] - 960s 3s/step - loss: 0.6634 - accuracy: 0.7234 - val_loss: 0.5847 - val_accuracy: 0.7602 - lr: 0.0010\n",
            "Epoch 2/20\n",
            "329/329 [==============================] - 911s 3s/step - loss: 0.5800 - accuracy: 0.7654 - val_loss: 0.5587 - val_accuracy: 0.7735 - lr: 0.0010\n",
            "Epoch 3/20\n",
            "329/329 [==============================] - 881s 3s/step - loss: 0.5581 - accuracy: 0.7755 - val_loss: 0.5385 - val_accuracy: 0.7822 - lr: 0.0010\n",
            "Epoch 4/20\n",
            "329/329 [==============================] - 892s 3s/step - loss: 0.5442 - accuracy: 0.7820 - val_loss: 0.5296 - val_accuracy: 0.7855 - lr: 0.0010\n",
            "Epoch 5/20\n",
            "329/329 [==============================] - ETA: 0s - loss: 0.5347 - accuracy: 0.7865\n",
            "Epoch 5: ReduceLROnPlateau reducing learning rate to 0.00010000000474974513.\n",
            "329/329 [==============================] - 895s 3s/step - loss: 0.5347 - accuracy: 0.7865 - val_loss: 0.5279 - val_accuracy: 0.7859 - lr: 0.0010\n",
            "Epoch 6/20\n",
            "329/329 [==============================] - 892s 3s/step - loss: 0.5179 - accuracy: 0.7934 - val_loss: 0.5177 - val_accuracy: 0.7907 - lr: 1.0000e-04\n",
            "Epoch 7/20\n",
            "329/329 [==============================] - 915s 3s/step - loss: 0.5130 - accuracy: 0.7952 - val_loss: 0.5179 - val_accuracy: 0.7926 - lr: 1.0000e-04\n",
            "Epoch 8/20\n",
            "329/329 [==============================] - ETA: 0s - loss: 0.5116 - accuracy: 0.7953\n",
            "Epoch 8: ReduceLROnPlateau reducing learning rate to 1.0000000474974514e-05.\n",
            "329/329 [==============================] - 864s 3s/step - loss: 0.5116 - accuracy: 0.7953 - val_loss: 0.5172 - val_accuracy: 0.7927 - lr: 1.0000e-04\n",
            "Epoch 9/20\n",
            "329/329 [==============================] - ETA: 0s - loss: 0.5095 - accuracy: 0.7965\n",
            "Epoch 9: ReduceLROnPlateau reducing learning rate to 1e-05.\n",
            "329/329 [==============================] - 896s 3s/step - loss: 0.5095 - accuracy: 0.7965 - val_loss: 0.5168 - val_accuracy: 0.7923 - lr: 1.0000e-05\n",
            "Epoch 10/20\n",
            "329/329 [==============================] - 906s 3s/step - loss: 0.5088 - accuracy: 0.7971 - val_loss: 0.5166 - val_accuracy: 0.7922 - lr: 1.0000e-05\n",
            "Epoch 10: early stopping\n"
          ]
        }
      ],
      "source": [
        "stopping = EarlyStopping(monitor='val_accuracy', patience=2, verbose=1)\n",
        "reduce_lr = ReduceLROnPlateau(monitor='val_accuracy', patience = 1, verbose = 1, factor = 0.1, min_delta=0.001, min_lr = 0.00001)\n",
        "\n",
        "history = model.fit(train_data, train_labels, epochs = 20,\n",
        "          batch_size = 1024, shuffle=True,\n",
        "          validation_data=[val_data, val_labels],\n",
        "          callbacks=[reduce_lr, stopping])\n",
        "\n",
        "model.save('/content/drive/MyDrive/ColabNotebooks/data/modeltrainable.h5')"
      ]
    },
    {
      "cell_type": "code",
      "execution_count": 30,
      "metadata": {
        "colab": {
          "base_uri": "https://localhost:8080/"
        },
        "id": "Fy8Eq3UZOwDO",
        "outputId": "3aa3bae0-19fc-4c85-94d5-3e72e4851a7f"
      },
      "outputs": [
        {
          "output_type": "stream",
          "name": "stdout",
          "text": [
            "1313/1313 [==============================] - 78s 59ms/step - loss: 0.5152 - accuracy: 0.7930\n"
          ]
        },
        {
          "output_type": "execute_result",
          "data": {
            "text/plain": [
              "[0.5151677131652832, 0.7930238246917725]"
            ]
          },
          "metadata": {},
          "execution_count": 30
        }
      ],
      "source": [
        "model.evaluate(test_data, test_labels)"
      ]
    },
    {
      "cell_type": "code",
      "execution_count": 31,
      "metadata": {
        "colab": {
          "base_uri": "https://localhost:8080/",
          "height": 472
        },
        "id": "-kFYW5ucOw0c",
        "outputId": "8ddd0dad-fae8-4e0c-f4ff-9b5f9adbfd51"
      },
      "outputs": [
        {
          "output_type": "display_data",
          "data": {
            "text/plain": [
              "<Figure size 640x480 with 1 Axes>"
            ],
            "image/png": "[encoded data removed]"
          },
          "metadata": {}
        }
      ],
      "source": [
        "plt.plot(history.history['accuracy'])\n",
        "plt.plot(history.history['val_accuracy'])\n",
        "plt.title('Model Accuracy')\n",
        "plt.ylabel('Accuracy')\n",
        "plt.xlabel('Epoch')\n",
        "plt.legend(['Train', 'Validation'], loc='upper left')\n",
        "plt.show()"
      ]
    },
    {
      "cell_type": "code",
      "execution_count": 32,
      "metadata": {
        "colab": {
          "base_uri": "https://localhost:8080/",
          "height": 472
        },
        "id": "M60aalSUPZOX",
        "outputId": "96af5fd5-e6f6-42f0-d87d-8452265cdd1e"
      },
      "outputs": [
        {
          "output_type": "display_data",
          "data": {
            "text/plain": [
              "<Figure size 640x480 with 1 Axes>"
            ],
            "image/png": "[encoded data removed]"
          },
          "metadata": {}
        }
      ],
      "source": [
        "plt.plot(history.history['loss'])\n",
        "plt.plot(history.history['val_loss'])\n",
        "plt.title('Model Loss')\n",
        "plt.ylabel('Loss')\n",
        "plt.xlabel('Epoch')\n",
        "plt.legend(['Train', 'Validation'], loc='upper right')\n",
        "plt.show()"
      ]
    },
    {
      "cell_type": "code",
      "source": [
        "#getting some more metrics for the model\n",
        "\n",
        "# predict crisp classes for test set\n",
        "yhat_classes = model.predict(test_data, verbose=0)\n",
        " "
      ],
      "metadata": {
        "id": "eZoLHfyiWFlF"
      },
      "execution_count": 33,
      "outputs": []
    },
    {
      "cell_type": "code",
      "source": [
        "yhat_classes=np.argmax(yhat_classes, axis=-1)"
      ],
      "metadata": {
        "id": "i7P_EFVwWbiJ"
      },
      "execution_count": 34,
      "outputs": []
    },
    {
      "cell_type": "code",
      "source": [
        "\n",
        "# accuracy: (tp + tn) / (p + n)\n",
        "accuracy = accuracy_score(test_labels, yhat_classes)\n",
        "print('Accuracy: %f' % accuracy)\n",
        "# precision tp / (tp + fp)\n",
        "precision = precision_score(test_labels, yhat_classes,average='macro')\n",
        "print('Precision: ',precision)\n",
        "# recall: tp / (tp + fn)\n",
        "recall = recall_score(test_labels, yhat_classes,average='macro')\n",
        "print('Recall:' , recall)\n",
        "# f1: 2 tp / (2 tp + fp + fn)\n",
        "f1 = f1_score(test_labels, yhat_classes,average='macro')\n",
        "print('F1 score:' ,f1)\n",
        " \n",
        "# kappa\n",
        "kappa = cohen_kappa_score(test_labels, yhat_classes)\n",
        "print('Cohens kappa: %f' % kappa)\n",
        "\n",
        "# confusion matrix\n",
        "matrix = confusion_matrix(test_labels, yhat_classes)\n",
        "print(matrix)"
      ],
      "metadata": {
        "colab": {
          "base_uri": "https://localhost:8080/"
        },
        "id": "c9B0r7QCSfGg",
        "outputId": "f048af36-c530-4fad-b78c-84a9f52fe434"
      },
      "execution_count": 35,
      "outputs": [
        {
          "output_type": "stream",
          "name": "stdout",
          "text": [
            "Accuracy: 0.793024\n",
            "Precision:  0.7951381797244309\n",
            "Recall: 0.7930238095238096\n",
            "F1 score: 0.7932761793230251\n",
            "Cohens kappa: 0.689536\n",
            "[[11463  1173  1364]\n",
            " [ 1639 10898  1463]\n",
            " [ 2095   959 10946]]\n"
          ]
        }
      ]
    },
    {
      "cell_type": "markdown",
      "source": [],
      "metadata": {
        "id": "N4ca-dPvS-0P"
      }
    },
    {
      "cell_type": "code",
      "source": [
        "import seaborn as sns \n",
        "cm_sum = np.sum(matrix, axis=1, keepdims=True)\n",
        "cm_perc = matrix / cm_sum.astype(float) * 100\n",
        "annot = np.empty_like(matrix).astype(str)\n",
        "nrows, ncols = matrix.shape\n",
        "for i in range(nrows):\n",
        "    for j in range(ncols):\n",
        "        c = matrix[i, j]\n",
        "        p = cm_perc[i, j]\n",
        "        if i == j:\n",
        "            s = cm_sum[i]\n",
        "            annot[i, j] = '%.1f%%\\n%d/%d' % (p, c, s)\n",
        "        elif c == 0:\n",
        "            annot[i, j] = '0.0%'\n",
        "        else:\n",
        "            annot[i, j] = '%.1f%%\\n%d' % (p, c)\n",
        "cm = pd.DataFrame(matrix, index=np.unique(test_labels), columns=np.unique(test_labels))\n",
        "cm.index.name = 'True Values'\n",
        "cm.columns.name = 'Predicted Values'\n",
        "fig, ax = plt.subplots()\n",
        "\n",
        "sns.heatmap(cm, cmap= \"YlGnBu\", annot=annot,fmt='',ax=ax)"
      ],
      "metadata": {
        "colab": {
          "base_uri": "https://localhost:8080/",
          "height": 466
        },
        "id": "5ZIi4WDgB-5s",
        "outputId": "5d604ff2-8bf2-49ed-aa2e-f284d8131d32"
      },
      "execution_count": 37,
      "outputs": [
        {
          "output_type": "execute_result",
          "data": {
            "text/plain": [
              "<Axes: xlabel='Predicted Values', ylabel='True Values'>"
            ]
          },
          "metadata": {},
          "execution_count": 37
        },
        {
          "output_type": "display_data",
          "data": {
            "text/plain": [
              "<Figure size 640x480 with 2 Axes>"
            ],
            "image/png": "[encoded data removed]"
          },
          "metadata": {}
        }
      ]
    }
  ],
  "metadata": {
    "accelerator": "GPU",
    "colab": {
      "provenance": []
    },
    "gpuClass": "standard",
    "kernelspec": {
      "display_name": "Python 3",
      "name": "python3"
    },
    "language_info": {
      "codemirror_mode": {
        "name": "ipython",
        "version": 3
      },
      "file_extension": ".py",
      "mimetype": "text/x-python",
      "name": "python",
      "nbconvert_exporter": "python",
      "pygments_lexer": "ipython3",
      "version": "3.8.10"
    }
  },
  "nbformat": 4,
  "nbformat_minor": 0
}